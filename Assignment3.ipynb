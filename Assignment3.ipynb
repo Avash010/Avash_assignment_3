{
 "cells": [
  {
   "cell_type": "markdown",
   "id": "633d0d72-480a-4804-876b-616e2b56f6db",
   "metadata": {},
   "source": [
    "Q1. Which keyword is used to create a function? Create a function to return a list of odd numbers in the \n",
    "range of 1 to 25."
   ]
  },
  {
   "cell_type": "code",
   "execution_count": 1,
   "id": "0a39b421-caa7-461b-be4a-957cf4eb4110",
   "metadata": {},
   "outputs": [],
   "source": [
    "## def keyword is used to create a function."
   ]
  },
  {
   "cell_type": "code",
   "execution_count": 2,
   "id": "42c243ca-ec9f-43b4-8cdd-240de43c7ced",
   "metadata": {},
   "outputs": [],
   "source": [
    "l = list(range(1,25))"
   ]
  },
  {
   "cell_type": "code",
   "execution_count": 3,
   "id": "536e61b1-0d0c-43bc-8e66-7b73d6726e90",
   "metadata": {},
   "outputs": [],
   "source": [
    "def test(l):\n",
    "    l1 = []\n",
    "    for i in l:\n",
    "        if i%2!=0:\n",
    "            l1.append(i)\n",
    "    return l1"
   ]
  },
  {
   "cell_type": "code",
   "execution_count": 4,
   "id": "ff3a0b1b-7b6b-4f63-a74d-77dc0f416f3e",
   "metadata": {},
   "outputs": [
    {
     "data": {
      "text/plain": [
       "[1, 3, 5, 7, 9, 11, 13, 15, 17, 19, 21, 23]"
      ]
     },
     "execution_count": 4,
     "metadata": {},
     "output_type": "execute_result"
    }
   ],
   "source": [
    "test(l)"
   ]
  },
  {
   "cell_type": "markdown",
   "id": "ae4e7e59-c37e-4411-845d-e4dd125e70a2",
   "metadata": {},
   "source": [
    "Q2. Why *args and **kwargs is used in some functions? Create a function each for *args and **kwargs \n",
    "to demonstrate their use."
   ]
  },
  {
   "cell_type": "code",
   "execution_count": 1,
   "id": "b885a912-9a09-4e3a-8440-a99779e2a896",
   "metadata": {},
   "outputs": [],
   "source": [
    "## *args and *kwargs are used as an argument where we can pass n nos. of arguments & we get output in form of tuples."
   ]
  },
  {
   "cell_type": "code",
   "execution_count": 2,
   "id": "79e47e3f-cba4-4633-9133-636868e2958c",
   "metadata": {},
   "outputs": [],
   "source": [
    "def test(*args,a):\n",
    "    return args*a"
   ]
  },
  {
   "cell_type": "code",
   "execution_count": 3,
   "id": "c4e44092-e2b3-4e12-b46b-03522adbd37e",
   "metadata": {},
   "outputs": [
    {
     "data": {
      "text/plain": [
       "('Avash', 'Kumar', 'panda', 'Avash', 'Kumar', 'panda')"
      ]
     },
     "execution_count": 3,
     "metadata": {},
     "output_type": "execute_result"
    }
   ],
   "source": [
    "test(\"Avash\",\"Kumar\",\"panda\", a = 2)"
   ]
  },
  {
   "cell_type": "code",
   "execution_count": 4,
   "id": "ce56740f-4893-4e8b-9b93-9d9bb87ef521",
   "metadata": {},
   "outputs": [],
   "source": [
    "def test1(**kwargs):\n",
    "    return kwargs"
   ]
  },
  {
   "cell_type": "code",
   "execution_count": 5,
   "id": "faec0b96-5494-4791-85d5-4693d866ffc0",
   "metadata": {},
   "outputs": [
    {
     "data": {
      "text/plain": [
       "{'a': [1, 3, 3, 5, 6, 43, 4], 'b': 'Avash', 'c': 45.43, 'd': True}"
      ]
     },
     "execution_count": 5,
     "metadata": {},
     "output_type": "execute_result"
    }
   ],
   "source": [
    "test1(a = [1,3,3,5,6,43,4], b = \"Avash\", c = 45.43, d = True)"
   ]
  },
  {
   "cell_type": "markdown",
   "id": "02345ca2-109a-4d5f-8b68-30e6f51f88b3",
   "metadata": {},
   "source": [
    "Q3.  What is an iterator in python? Name the method used to initialise the iterator object and the method \n",
    "used for iteration. Use these methods to print the first five elements of the given list [2, 4, 6, 8, 10, 12, 14, \n",
    "16, 18, 20]."
   ]
  },
  {
   "cell_type": "code",
   "execution_count": 1,
   "id": "8c0ecaca-20d7-4512-908e-1e81f41407d2",
   "metadata": {},
   "outputs": [],
   "source": [
    "# Iterator is used to access elements in a sequence one at a time and to create efficient and memory-saving loops that can process large amounts of data.\n",
    "# iter() is used to initialise the iterator object.\n",
    "# next() and iter() are used for iteration."
   ]
  },
  {
   "cell_type": "code",
   "execution_count": 2,
   "id": "12549857-8e29-4ea2-a1d3-3832aae93245",
   "metadata": {},
   "outputs": [],
   "source": [
    "l= [2,4,6,8,10,12,14,16,18,20]"
   ]
  },
  {
   "cell_type": "code",
   "execution_count": 3,
   "id": "3b776690-d5ac-4e44-9dff-4a8e9d1b78ae",
   "metadata": {},
   "outputs": [],
   "source": [
    "l1 = iter(l)"
   ]
  },
  {
   "cell_type": "code",
   "execution_count": 4,
   "id": "e02a5297-8f60-41d7-9c93-69947e8571bb",
   "metadata": {},
   "outputs": [
    {
     "name": "stdout",
     "output_type": "stream",
     "text": [
      "2\n",
      "4\n",
      "6\n",
      "8\n",
      "10\n"
     ]
    }
   ],
   "source": [
    "for i in range(5):\n",
    "    print(next(l1))"
   ]
  },
  {
   "cell_type": "markdown",
   "id": "5d985fdc-b58f-4f94-a4e3-87e5324f6208",
   "metadata": {},
   "source": [
    "Q4.  What is a generator function in python? Why yield keyword is used? Give an example of a generator \n",
    "function"
   ]
  },
  {
   "cell_type": "code",
   "execution_count": 1,
   "id": "8f392281-5c51-48b0-ad40-b27eaab09cbb",
   "metadata": {},
   "outputs": [],
   "source": [
    "# Generator function generates a sequence of values.\n",
    "# When called, it returns an iterator that can be used to iterate over the values in the sequence.\n",
    "# yield keyword is used to return values one at a time, allowing for efficient and memory-saving processing of large amounts of data."
   ]
  },
  {
   "cell_type": "code",
   "execution_count": 2,
   "id": "a8c7db90-7e3a-4d2e-9f9d-a832ef998c70",
   "metadata": {},
   "outputs": [],
   "source": [
    "def test1(a,b):\n",
    "    if a>b:\n",
    "        yield a\n",
    "    else:\n",
    "        yield b"
   ]
  },
  {
   "cell_type": "code",
   "execution_count": 3,
   "id": "bc5839ac-44c7-4b5a-abc5-76b98130be1b",
   "metadata": {},
   "outputs": [
    {
     "name": "stdout",
     "output_type": "stream",
     "text": [
      "44\n"
     ]
    }
   ],
   "source": [
    "for i in test1(44,38):\n",
    "    print(i)"
   ]
  },
  {
   "cell_type": "markdown",
   "id": "4b3d3f48-7a55-4b62-89bc-7a840c4198c2",
   "metadata": {},
   "source": [
    "Q6. Write a python program to print the first 10 Fibonacci numbers using a while loop."
   ]
  },
  {
   "cell_type": "code",
   "execution_count": 1,
   "id": "3c0caa2c-c8f9-4b4f-8d68-8bb91a94f111",
   "metadata": {},
   "outputs": [
    {
     "name": "stdout",
     "output_type": "stream",
     "text": [
      "0\n",
      "1\n",
      "1\n",
      "2\n",
      "3\n",
      "5\n",
      "8\n",
      "13\n",
      "21\n",
      "34\n"
     ]
    }
   ],
   "source": [
    "n = 10\n",
    "x,y = 0,1\n",
    "i = 0\n",
    "while i < n:\n",
    "    print(x)\n",
    "    z = x + y\n",
    "    x,y = y,z\n",
    "    i = i + 1"
   ]
  },
  {
   "cell_type": "markdown",
   "id": "14e8660d-a6f9-42ec-8d4c-b6c1fee13060",
   "metadata": {},
   "source": [
    "Q7. Write a List Comprehension to iterate through the given string: ‘pwskills’.\n",
    "Expected output: ['p', 'w', 's', 'k', 'i', 'l', 'l', 's'] "
   ]
  },
  {
   "cell_type": "code",
   "execution_count": 1,
   "id": "77ca8fc6-0f94-4def-adf2-25cbd642ee19",
   "metadata": {},
   "outputs": [],
   "source": [
    "s = 'pwskills'"
   ]
  },
  {
   "cell_type": "code",
   "execution_count": 2,
   "id": "13513e3e-13d9-4d91-862e-4908a6f3a0b6",
   "metadata": {},
   "outputs": [],
   "source": [
    "l = [i for i in s]"
   ]
  },
  {
   "cell_type": "code",
   "execution_count": 3,
   "id": "d16db8f3-09f8-4c13-a6c3-667e43e013d5",
   "metadata": {},
   "outputs": [
    {
     "name": "stdout",
     "output_type": "stream",
     "text": [
      "['p', 'w', 's', 'k', 'i', 'l', 'l', 's']\n"
     ]
    }
   ],
   "source": [
    "print(l)"
   ]
  },
  {
   "cell_type": "markdown",
   "id": "8d45303a-ce55-4c69-8921-1d4d7a97d02f",
   "metadata": {},
   "source": [
    "Q8. Write a python program to check whether a given number is Palindrome or not using a while loop."
   ]
  },
  {
   "cell_type": "code",
   "execution_count": 1,
   "id": "2eb8d24d-7c60-462a-b470-c3d082dc65e2",
   "metadata": {},
   "outputs": [
    {
     "name": "stdin",
     "output_type": "stream",
     "text": [
      "Enter a number 12321\n"
     ]
    },
    {
     "name": "stdout",
     "output_type": "stream",
     "text": [
      "Entered number is a palindrome number\n"
     ]
    }
   ],
   "source": [
    "n= int(input(\"Enter a number\"))\n",
    "temp = n\n",
    "rev = 0\n",
    "while n > 0:\n",
    "    dig = n % 10\n",
    "    rev = rev * 10 + dig\n",
    "    n = n // 10\n",
    "if temp == rev:\n",
    "    print(\"Entered number is a palindrome number\")\n",
    "else:\n",
    "    print(\"Entered number is not a palindrome number\")"
   ]
  },
  {
   "cell_type": "markdown",
   "id": "423392c4-8d6a-45d7-b81d-25e323dbe0c2",
   "metadata": {},
   "source": [
    "Q9. Write a code to print odd numbers from 1 to 100 using list comprehension"
   ]
  },
  {
   "cell_type": "code",
   "execution_count": 1,
   "id": "cd5beaef-1c2e-461c-97b5-013a10a6e352",
   "metadata": {},
   "outputs": [],
   "source": [
    "l = list(range(1,100))\n",
    "l1 = [i for i in l if i%2!=0]"
   ]
  },
  {
   "cell_type": "code",
   "execution_count": 2,
   "id": "aa35ec8d-b060-4c6b-8421-aacf152269d5",
   "metadata": {},
   "outputs": [
    {
     "data": {
      "text/plain": [
       "[1,\n",
       " 3,\n",
       " 5,\n",
       " 7,\n",
       " 9,\n",
       " 11,\n",
       " 13,\n",
       " 15,\n",
       " 17,\n",
       " 19,\n",
       " 21,\n",
       " 23,\n",
       " 25,\n",
       " 27,\n",
       " 29,\n",
       " 31,\n",
       " 33,\n",
       " 35,\n",
       " 37,\n",
       " 39,\n",
       " 41,\n",
       " 43,\n",
       " 45,\n",
       " 47,\n",
       " 49,\n",
       " 51,\n",
       " 53,\n",
       " 55,\n",
       " 57,\n",
       " 59,\n",
       " 61,\n",
       " 63,\n",
       " 65,\n",
       " 67,\n",
       " 69,\n",
       " 71,\n",
       " 73,\n",
       " 75,\n",
       " 77,\n",
       " 79,\n",
       " 81,\n",
       " 83,\n",
       " 85,\n",
       " 87,\n",
       " 89,\n",
       " 91,\n",
       " 93,\n",
       " 95,\n",
       " 97,\n",
       " 99]"
      ]
     },
     "execution_count": 2,
     "metadata": {},
     "output_type": "execute_result"
    }
   ],
   "source": [
    "l1"
   ]
  }
 ],
 "metadata": {
  "kernelspec": {
   "display_name": "Python 3 (ipykernel)",
   "language": "python",
   "name": "python3"
  },
  "language_info": {
   "codemirror_mode": {
    "name": "ipython",
    "version": 3
   },
   "file_extension": ".py",
   "mimetype": "text/x-python",
   "name": "python",
   "nbconvert_exporter": "python",
   "pygments_lexer": "ipython3",
   "version": "3.10.8"
  }
 },
 "nbformat": 4,
 "nbformat_minor": 5
}
